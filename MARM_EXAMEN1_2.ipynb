{
  "nbformat": 4,
  "nbformat_minor": 0,
  "metadata": {
    "colab": {
      "provenance": [],
      "authorship_tag": "ABX9TyOC/eYF7/dyG/CdRj4sEZnS",
      "include_colab_link": true
    },
    "kernelspec": {
      "name": "python3",
      "display_name": "Python 3"
    },
    "language_info": {
      "name": "python"
    }
  },
  "cells": [
    {
      "cell_type": "markdown",
      "metadata": {
        "id": "view-in-github",
        "colab_type": "text"
      },
      "source": [
        "<a href=\"https://colab.research.google.com/github/MiguelARmz/Estructurada-432/blob/main/MARM_EXAMEN1_2.ipynb\" target=\"_parent\"><img src=\"https://colab.research.google.com/assets/colab-badge.svg\" alt=\"Open In Colab\"/></a>"
      ]
    },
    {
      "cell_type": "code",
      "execution_count": 44,
      "metadata": {
        "id": "034Z11ol_Y4c"
      },
      "outputs": [],
      "source": [
        "#Examen 1 Python\n",
        "#Nombre: Miguel Angel Ramirez Monjaraz\n",
        "#Matricula: 372205\n",
        "#Fecha: 01/02/2023"
      ]
    },
    {
      "cell_type": "code",
      "source": [
        "import random"
      ],
      "metadata": {
        "id": "nWwQS8OR_-sq"
      },
      "execution_count": 3,
      "outputs": []
    },
    {
      "cell_type": "code",
      "source": [
        "\n",
        "def regresa_num():\n",
        "    salida = 1\n",
        "    while(salida == 1):\n",
        "            try:\n",
        "                ri = int(input(\"Ingrese el rango inicial: \"))\n",
        "                rf = int(input(\"Ingrese el rango final: \"))\n",
        "            except ValueError:\n",
        "                print(\"No es un numero \")\n",
        "                print(\"Intenta de nuevo\")\n",
        "            else:\n",
        "                numero = random.randint(ri,rf)\n",
        "                return numero"
      ],
      "metadata": {
        "id": "azxxnXB6_dkQ"
      },
      "execution_count": 42,
      "outputs": []
    },
    {
      "cell_type": "code",
      "source": [
        "numero = regresa_num()\n",
        "print(f\"El numero retornado es:  {numero}\")"
      ],
      "metadata": {
        "colab": {
          "base_uri": "https://localhost:8080/"
        },
        "id": "sv9h8jEbABfN",
        "outputId": "20529bff-4db8-472a-d0d1-abacc32cbeab"
      },
      "execution_count": 46,
      "outputs": [
        {
          "output_type": "stream",
          "name": "stdout",
          "text": [
            "Ingrese el rango inicial: 1\n",
            "Ingrese el rango final: 100\n",
            "El numero retornado es:  87\n"
          ]
        }
      ]
    },
    {
      "cell_type": "code",
      "source": [
        "def retorna_lista():\n",
        "    lista = []\n",
        "    for i in range(20):\n",
        "        num = random.randint(20,100)\n",
        "        if not num in lista:\n",
        "            lista.append(num)\n",
        "    return lista\n"
      ],
      "metadata": {
        "id": "LcDaKrqSEMD8"
      },
      "execution_count": 49,
      "outputs": []
    },
    {
      "cell_type": "code",
      "source": [
        "retorna_lista()\n"
      ],
      "metadata": {
        "colab": {
          "base_uri": "https://localhost:8080/"
        },
        "id": "agP9BpCxEttF",
        "outputId": "34594bd3-916c-49e6-ecbf-1be75b2cd838"
      },
      "execution_count": 52,
      "outputs": [
        {
          "output_type": "execute_result",
          "data": {
            "text/plain": [
              "[65, 58, 89, 82, 64, 88, 86, 59, 34, 47, 94, 81, 23, 61, 26, 45, 56, 80]"
            ]
          },
          "metadata": {},
          "execution_count": 52
        }
      ]
    }
  ]
}