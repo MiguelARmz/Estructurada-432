{
  "nbformat": 4,
  "nbformat_minor": 0,
  "metadata": {
    "colab": {
      "provenance": [],
      "authorship_tag": "ABX9TyMNPsDUq0XHiYavPmyz7uiE",
      "include_colab_link": true
    },
    "kernelspec": {
      "name": "python3",
      "display_name": "Python 3"
    },
    "language_info": {
      "name": "python"
    }
  },
  "cells": [
    {
      "cell_type": "markdown",
      "metadata": {
        "id": "view-in-github",
        "colab_type": "text"
      },
      "source": [
        "<a href=\"https://colab.research.google.com/github/MiguelARmz/Estructurada-432/blob/main/MARM_EXAMEN1.ipynb\" target=\"_parent\"><img src=\"https://colab.research.google.com/assets/colab-badge.svg\" alt=\"Open In Colab\"/></a>"
      ]
    },
    {
      "cell_type": "code",
      "execution_count": 44,
      "metadata": {
        "id": "034Z11ol_Y4c"
      },
      "outputs": [],
      "source": [
        "#Examen 1 Python\n",
        "#Nombre: Miguel Angel Ramirez Monjaraz\n",
        "#Matricula: 372205\n",
        "#Fecha: 01/02/2023"
      ]
    },
    {
      "cell_type": "code",
      "source": [
        "import random"
      ],
      "metadata": {
        "id": "nWwQS8OR_-sq"
      },
      "execution_count": 3,
      "outputs": []
    },
    {
      "cell_type": "code",
      "source": [
        "\n",
        "def regresa_num():\n",
        "    salida = 1\n",
        "    while(salida == 1):\n",
        "            try:\n",
        "                ri = int(input(\"Ingrese el rango inicial: \"))\n",
        "                rf = int(input(\"Ingrese el rango final: \"))\n",
        "            except ValueError:\n",
        "                print(\"No es un numero \")\n",
        "                print(\"Intenta de nuevo\")\n",
        "            else:\n",
        "                numero = random.randint(ri,rf)\n",
        "                return numero"
      ],
      "metadata": {
        "id": "azxxnXB6_dkQ"
      },
      "execution_count": 42,
      "outputs": []
    },
    {
      "cell_type": "code",
      "source": [
        "numero = regresa_num()\n",
        "print(f\"El numero retornado es:  {numero}\")"
      ],
      "metadata": {
        "colab": {
          "base_uri": "https://localhost:8080/"
        },
        "id": "sv9h8jEbABfN",
        "outputId": "20529bff-4db8-472a-d0d1-abacc32cbeab"
      },
      "execution_count": 46,
      "outputs": [
        {
          "output_type": "stream",
          "name": "stdout",
          "text": [
            "Ingrese el rango inicial: 1\n",
            "Ingrese el rango final: 100\n",
            "El numero retornado es:  87\n"
          ]
        }
      ]
    }
  ]
}